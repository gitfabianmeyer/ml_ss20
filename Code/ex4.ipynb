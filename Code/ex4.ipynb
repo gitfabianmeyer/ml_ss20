{
 "cells": [
  {
   "cell_type": "code",
   "execution_count": 1,
   "metadata": {},
   "outputs": [
    {
     "name": "stderr",
     "output_type": "stream",
     "text": [
      "<ipython-input-1-d321e61eee73>:6: FutureWarning: Passing a negative integer is deprecated in version 1.0 and will not be supported in future version. Instead, use None to not limit the column width.\n",
      "  pd.set_option('display.max_colwidth', -1)\n"
     ]
    }
   ],
   "source": [
    "import sys\n",
    "sys.path.append('..//Exercise3')\n",
    "from ex3 import *\n",
    "import numpy as np\n",
    "import pandas as pd\n",
    "pd.set_option('display.max_colwidth', -1)"
   ]
  },
  {
   "cell_type": "code",
   "execution_count": 2,
   "metadata": {},
   "outputs": [],
   "source": [
    "positive_path = '..//Exercise3//positives'\n",
    "negative_path = '..//Exercise3//negatives'"
   ]
  },
  {
   "cell_type": "code",
   "execution_count": 3,
   "metadata": {},
   "outputs": [],
   "source": [
    "positives = load_images_from_dir(positive_path)\n",
    "negatives = load_images_from_dir(negative_path)"
   ]
  },
  {
   "cell_type": "code",
   "execution_count": 4,
   "metadata": {},
   "outputs": [],
   "source": [
    "pos, neg = create_feature_vectors(positives, negatives)"
   ]
  },
  {
   "cell_type": "markdown",
   "metadata": {},
   "source": [
    "Apply support vector machines to classify the Chagas parasite images using the feature vectors that you\n",
    "generated in exercise 3. You need to run experiments using the linear, polynomial (degrees d = 1, 2, 3, 4),\n",
    "sigmoid and radial basis kernels."
   ]
  },
  {
   "cell_type": "code",
   "execution_count": 5,
   "metadata": {},
   "outputs": [],
   "source": [
    "def create_dataset_from_examples(positives, negatives, shuffle=True):\n",
    "    y_pos = [1 for pos in positives]\n",
    "    y_neg = [0 for neg in negatives]\n",
    "    \n",
    "    X, Y = [], []\n",
    "    X.extend(positives)\n",
    "    X.extend(negatives)\n",
    "    Y.extend(y_pos)\n",
    "    Y.extend(y_neg)\n",
    "    \n",
    "    if shuffle:\n",
    "        from sklearn.utils import shuffle\n",
    "        X, Y = shuffle(X,Y)\n",
    "    return np.asarray(X), np.asarray(Y)\n",
    "    "
   ]
  },
  {
   "cell_type": "code",
   "execution_count": 6,
   "metadata": {},
   "outputs": [],
   "source": [
    "x_train, y_train = create_dataset_from_examples(pos, neg)"
   ]
  },
  {
   "cell_type": "code",
   "execution_count": 7,
   "metadata": {},
   "outputs": [],
   "source": [
    "from sklearn.model_selection import GridSearchCV\n",
    "from sklearn.svm import SVC"
   ]
  },
  {
   "cell_type": "code",
   "execution_count": 8,
   "metadata": {},
   "outputs": [
    {
     "name": "stdout",
     "output_type": "stream",
     "text": [
      "Fitting 5 folds for each of 1440 candidates, totalling 7200 fits\n"
     ]
    },
    {
     "name": "stderr",
     "output_type": "stream",
     "text": [
      "[Parallel(n_jobs=-1)]: Using backend LokyBackend with 8 concurrent workers.\n",
      "[Parallel(n_jobs=-1)]: Done  34 tasks      | elapsed:    1.6s\n",
      "[Parallel(n_jobs=-1)]: Done 6422 tasks      | elapsed:    4.0s\n",
      "[Parallel(n_jobs=-1)]: Done 7200 out of 7200 | elapsed:    4.2s finished\n"
     ]
    }
   ],
   "source": [
    "C_range = [0.001,0.005,0.01,0.05, 0.1,0.5, 1, 5, 10]\n",
    "gamma_range = np.logspace(-9, 3, 10)\n",
    "svc = SVC()\n",
    "params={\n",
    "    'C': C_range,\n",
    "    'gamma': gamma_range,\n",
    "    'kernel': ['linear', 'poly', 'rbf', 'sigmoid'],\n",
    "    'degree': [1,2,3,4]\n",
    "}\n",
    "\n",
    "clf = GridSearchCV(svc, params, verbose=1, n_jobs=-1, cv=5)\n",
    "clf.fit(x_train, y_train)\n",
    "res = clf.cv_results_"
   ]
  },
  {
   "cell_type": "code",
   "execution_count": 9,
   "metadata": {},
   "outputs": [],
   "source": [
    "results = pd.DataFrame(res)"
   ]
  },
  {
   "cell_type": "code",
   "execution_count": 31,
   "metadata": {},
   "outputs": [],
   "source": [
    "results.sort_values(by='rank_test_score', inplace=True)"
   ]
  },
  {
   "cell_type": "code",
   "execution_count": 48,
   "metadata": {},
   "outputs": [],
   "source": [
    "results.to_csv('C:\\\\users\\\\fmeyer\\\\git\\\\ml_ss20\\\\Exercise4\\\\results.csv')"
   ]
  },
  {
   "cell_type": "code",
   "execution_count": 35,
   "metadata": {},
   "outputs": [
    {
     "data": {
      "text/html": [
       "<div>\n",
       "<style scoped>\n",
       "    .dataframe tbody tr th:only-of-type {\n",
       "        vertical-align: middle;\n",
       "    }\n",
       "\n",
       "    .dataframe tbody tr th {\n",
       "        vertical-align: top;\n",
       "    }\n",
       "\n",
       "    .dataframe thead th {\n",
       "        text-align: right;\n",
       "    }\n",
       "</style>\n",
       "<table border=\"1\" class=\"dataframe\">\n",
       "  <thead>\n",
       "    <tr style=\"text-align: right;\">\n",
       "      <th></th>\n",
       "      <th>mean_fit_time</th>\n",
       "      <th>std_fit_time</th>\n",
       "      <th>mean_score_time</th>\n",
       "      <th>std_score_time</th>\n",
       "      <th>param_C</th>\n",
       "      <th>param_degree</th>\n",
       "      <th>param_gamma</th>\n",
       "      <th>param_kernel</th>\n",
       "      <th>params</th>\n",
       "      <th>split0_test_score</th>\n",
       "      <th>split1_test_score</th>\n",
       "      <th>split2_test_score</th>\n",
       "      <th>split3_test_score</th>\n",
       "      <th>split4_test_score</th>\n",
       "      <th>mean_test_score</th>\n",
       "      <th>std_test_score</th>\n",
       "      <th>rank_test_score</th>\n",
       "    </tr>\n",
       "  </thead>\n",
       "  <tbody>\n",
       "    <tr>\n",
       "      <th>204</th>\n",
       "      <td>0.000600</td>\n",
       "      <td>0.000490</td>\n",
       "      <td>0.0004</td>\n",
       "      <td>0.00049</td>\n",
       "      <td>0.005</td>\n",
       "      <td>2</td>\n",
       "      <td>2.15443e-08</td>\n",
       "      <td>linear</td>\n",
       "      <td>{'C': 0.005, 'degree': 2, 'gamma': 2.1544346900318822e-08, 'kernel': 'linear'}</td>\n",
       "      <td>0.833333</td>\n",
       "      <td>1.000000</td>\n",
       "      <td>0.916667</td>\n",
       "      <td>0.916667</td>\n",
       "      <td>1.0</td>\n",
       "      <td>0.933333</td>\n",
       "      <td>0.062361</td>\n",
       "      <td>1</td>\n",
       "    </tr>\n",
       "    <tr>\n",
       "      <th>417</th>\n",
       "      <td>0.000800</td>\n",
       "      <td>0.000400</td>\n",
       "      <td>0.0004</td>\n",
       "      <td>0.00049</td>\n",
       "      <td>0.01</td>\n",
       "      <td>3</td>\n",
       "      <td>0.000215443</td>\n",
       "      <td>poly</td>\n",
       "      <td>{'C': 0.01, 'degree': 3, 'gamma': 0.00021544346900318823, 'kernel': 'poly'}</td>\n",
       "      <td>0.833333</td>\n",
       "      <td>1.000000</td>\n",
       "      <td>0.916667</td>\n",
       "      <td>0.916667</td>\n",
       "      <td>1.0</td>\n",
       "      <td>0.933333</td>\n",
       "      <td>0.062361</td>\n",
       "      <td>1</td>\n",
       "    </tr>\n",
       "    <tr>\n",
       "      <th>232</th>\n",
       "      <td>0.001001</td>\n",
       "      <td>0.000001</td>\n",
       "      <td>0.0000</td>\n",
       "      <td>0.00000</td>\n",
       "      <td>0.005</td>\n",
       "      <td>2</td>\n",
       "      <td>46.4159</td>\n",
       "      <td>linear</td>\n",
       "      <td>{'C': 0.005, 'degree': 2, 'gamma': 46.41588833612773, 'kernel': 'linear'}</td>\n",
       "      <td>0.833333</td>\n",
       "      <td>1.000000</td>\n",
       "      <td>0.916667</td>\n",
       "      <td>0.916667</td>\n",
       "      <td>1.0</td>\n",
       "      <td>0.933333</td>\n",
       "      <td>0.062361</td>\n",
       "      <td>1</td>\n",
       "    </tr>\n",
       "    <tr>\n",
       "      <th>697</th>\n",
       "      <td>0.000600</td>\n",
       "      <td>0.000490</td>\n",
       "      <td>0.0002</td>\n",
       "      <td>0.00040</td>\n",
       "      <td>0.1</td>\n",
       "      <td>2</td>\n",
       "      <td>0.000215443</td>\n",
       "      <td>poly</td>\n",
       "      <td>{'C': 0.1, 'degree': 2, 'gamma': 0.00021544346900318823, 'kernel': 'poly'}</td>\n",
       "      <td>0.833333</td>\n",
       "      <td>0.916667</td>\n",
       "      <td>1.000000</td>\n",
       "      <td>0.916667</td>\n",
       "      <td>1.0</td>\n",
       "      <td>0.933333</td>\n",
       "      <td>0.062361</td>\n",
       "      <td>1</td>\n",
       "    </tr>\n",
       "    <tr>\n",
       "      <th>308</th>\n",
       "      <td>0.000400</td>\n",
       "      <td>0.000490</td>\n",
       "      <td>0.0000</td>\n",
       "      <td>0.00000</td>\n",
       "      <td>0.005</td>\n",
       "      <td>4</td>\n",
       "      <td>2.15443</td>\n",
       "      <td>linear</td>\n",
       "      <td>{'C': 0.005, 'degree': 4, 'gamma': 2.154434690031878, 'kernel': 'linear'}</td>\n",
       "      <td>0.833333</td>\n",
       "      <td>1.000000</td>\n",
       "      <td>0.916667</td>\n",
       "      <td>0.916667</td>\n",
       "      <td>1.0</td>\n",
       "      <td>0.933333</td>\n",
       "      <td>0.062361</td>\n",
       "      <td>1</td>\n",
       "    </tr>\n",
       "  </tbody>\n",
       "</table>\n",
       "</div>"
      ],
      "text/plain": [
       "     mean_fit_time  std_fit_time  mean_score_time  std_score_time param_C  \\\n",
       "204  0.000600       0.000490      0.0004           0.00049         0.005    \n",
       "417  0.000800       0.000400      0.0004           0.00049         0.01     \n",
       "232  0.001001       0.000001      0.0000           0.00000         0.005    \n",
       "697  0.000600       0.000490      0.0002           0.00040         0.1      \n",
       "308  0.000400       0.000490      0.0000           0.00000         0.005    \n",
       "\n",
       "    param_degree  param_gamma param_kernel  \\\n",
       "204  2            2.15443e-08  linear        \n",
       "417  3            0.000215443  poly          \n",
       "232  2            46.4159      linear        \n",
       "697  2            0.000215443  poly          \n",
       "308  4            2.15443      linear        \n",
       "\n",
       "                                                                             params  \\\n",
       "204  {'C': 0.005, 'degree': 2, 'gamma': 2.1544346900318822e-08, 'kernel': 'linear'}   \n",
       "417  {'C': 0.01, 'degree': 3, 'gamma': 0.00021544346900318823, 'kernel': 'poly'}      \n",
       "232  {'C': 0.005, 'degree': 2, 'gamma': 46.41588833612773, 'kernel': 'linear'}        \n",
       "697  {'C': 0.1, 'degree': 2, 'gamma': 0.00021544346900318823, 'kernel': 'poly'}       \n",
       "308  {'C': 0.005, 'degree': 4, 'gamma': 2.154434690031878, 'kernel': 'linear'}        \n",
       "\n",
       "     split0_test_score  split1_test_score  split2_test_score  \\\n",
       "204  0.833333           1.000000           0.916667            \n",
       "417  0.833333           1.000000           0.916667            \n",
       "232  0.833333           1.000000           0.916667            \n",
       "697  0.833333           0.916667           1.000000            \n",
       "308  0.833333           1.000000           0.916667            \n",
       "\n",
       "     split3_test_score  split4_test_score  mean_test_score  std_test_score  \\\n",
       "204  0.916667           1.0                0.933333         0.062361         \n",
       "417  0.916667           1.0                0.933333         0.062361         \n",
       "232  0.916667           1.0                0.933333         0.062361         \n",
       "697  0.916667           1.0                0.933333         0.062361         \n",
       "308  0.916667           1.0                0.933333         0.062361         \n",
       "\n",
       "     rank_test_score  \n",
       "204  1                \n",
       "417  1                \n",
       "232  1                \n",
       "697  1                \n",
       "308  1                "
      ]
     },
     "execution_count": 35,
     "metadata": {},
     "output_type": "execute_result"
    }
   ],
   "source": [
    "results.head()"
   ]
  },
  {
   "cell_type": "code",
   "execution_count": 42,
   "metadata": {},
   "outputs": [],
   "source": [
    "for_latex = results[[\"param_C\",\"param_degree\",\"param_gamma\", \"param_kernel\",\"mean_test_score\",\"rank_test_score\"]]"
   ]
  },
  {
   "cell_type": "code",
   "execution_count": 44,
   "metadata": {},
   "outputs": [
    {
     "data": {
      "text/html": [
       "<div>\n",
       "<style scoped>\n",
       "    .dataframe tbody tr th:only-of-type {\n",
       "        vertical-align: middle;\n",
       "    }\n",
       "\n",
       "    .dataframe tbody tr th {\n",
       "        vertical-align: top;\n",
       "    }\n",
       "\n",
       "    .dataframe thead th {\n",
       "        text-align: right;\n",
       "    }\n",
       "</style>\n",
       "<table border=\"1\" class=\"dataframe\">\n",
       "  <thead>\n",
       "    <tr style=\"text-align: right;\">\n",
       "      <th></th>\n",
       "      <th>param_C</th>\n",
       "      <th>param_degree</th>\n",
       "      <th>param_gamma</th>\n",
       "      <th>param_kernel</th>\n",
       "      <th>mean_test_score</th>\n",
       "      <th>rank_test_score</th>\n",
       "    </tr>\n",
       "  </thead>\n",
       "  <tbody>\n",
       "    <tr>\n",
       "      <th>204</th>\n",
       "      <td>0.005</td>\n",
       "      <td>2</td>\n",
       "      <td>2.15443e-08</td>\n",
       "      <td>linear</td>\n",
       "      <td>0.933333</td>\n",
       "      <td>1</td>\n",
       "    </tr>\n",
       "    <tr>\n",
       "      <th>417</th>\n",
       "      <td>0.01</td>\n",
       "      <td>3</td>\n",
       "      <td>0.000215443</td>\n",
       "      <td>poly</td>\n",
       "      <td>0.933333</td>\n",
       "      <td>1</td>\n",
       "    </tr>\n",
       "    <tr>\n",
       "      <th>232</th>\n",
       "      <td>0.005</td>\n",
       "      <td>2</td>\n",
       "      <td>46.4159</td>\n",
       "      <td>linear</td>\n",
       "      <td>0.933333</td>\n",
       "      <td>1</td>\n",
       "    </tr>\n",
       "    <tr>\n",
       "      <th>697</th>\n",
       "      <td>0.1</td>\n",
       "      <td>2</td>\n",
       "      <td>0.000215443</td>\n",
       "      <td>poly</td>\n",
       "      <td>0.933333</td>\n",
       "      <td>1</td>\n",
       "    </tr>\n",
       "    <tr>\n",
       "      <th>308</th>\n",
       "      <td>0.005</td>\n",
       "      <td>4</td>\n",
       "      <td>2.15443</td>\n",
       "      <td>linear</td>\n",
       "      <td>0.933333</td>\n",
       "      <td>1</td>\n",
       "    </tr>\n",
       "    <tr>\n",
       "      <th>248</th>\n",
       "      <td>0.005</td>\n",
       "      <td>3</td>\n",
       "      <td>4.64159e-07</td>\n",
       "      <td>linear</td>\n",
       "      <td>0.933333</td>\n",
       "      <td>1</td>\n",
       "    </tr>\n",
       "    <tr>\n",
       "      <th>200</th>\n",
       "      <td>0.005</td>\n",
       "      <td>2</td>\n",
       "      <td>1e-09</td>\n",
       "      <td>linear</td>\n",
       "      <td>0.933333</td>\n",
       "      <td>1</td>\n",
       "    </tr>\n",
       "    <tr>\n",
       "      <th>280</th>\n",
       "      <td>0.005</td>\n",
       "      <td>4</td>\n",
       "      <td>1e-09</td>\n",
       "      <td>linear</td>\n",
       "      <td>0.933333</td>\n",
       "      <td>1</td>\n",
       "    </tr>\n",
       "    <tr>\n",
       "      <th>312</th>\n",
       "      <td>0.005</td>\n",
       "      <td>4</td>\n",
       "      <td>46.4159</td>\n",
       "      <td>linear</td>\n",
       "      <td>0.933333</td>\n",
       "      <td>1</td>\n",
       "    </tr>\n",
       "    <tr>\n",
       "      <th>196</th>\n",
       "      <td>0.005</td>\n",
       "      <td>1</td>\n",
       "      <td>1000</td>\n",
       "      <td>linear</td>\n",
       "      <td>0.933333</td>\n",
       "      <td>1</td>\n",
       "    </tr>\n",
       "  </tbody>\n",
       "</table>\n",
       "</div>"
      ],
      "text/plain": [
       "    param_C param_degree  param_gamma param_kernel  mean_test_score  \\\n",
       "204  0.005   2            2.15443e-08  linear       0.933333          \n",
       "417  0.01    3            0.000215443  poly         0.933333          \n",
       "232  0.005   2            46.4159      linear       0.933333          \n",
       "697  0.1     2            0.000215443  poly         0.933333          \n",
       "308  0.005   4            2.15443      linear       0.933333          \n",
       "248  0.005   3            4.64159e-07  linear       0.933333          \n",
       "200  0.005   2            1e-09        linear       0.933333          \n",
       "280  0.005   4            1e-09        linear       0.933333          \n",
       "312  0.005   4            46.4159      linear       0.933333          \n",
       "196  0.005   1            1000         linear       0.933333          \n",
       "\n",
       "     rank_test_score  \n",
       "204  1                \n",
       "417  1                \n",
       "232  1                \n",
       "697  1                \n",
       "308  1                \n",
       "248  1                \n",
       "200  1                \n",
       "280  1                \n",
       "312  1                \n",
       "196  1                "
      ]
     },
     "execution_count": 44,
     "metadata": {},
     "output_type": "execute_result"
    }
   ],
   "source": [
    "for_latex.head(10)"
   ]
  },
  {
   "cell_type": "markdown",
   "metadata": {},
   "source": [
    "best resuts for each kernel with support vectors.."
   ]
  },
  {
   "cell_type": "code",
   "execution_count": 13,
   "metadata": {},
   "outputs": [
    {
     "name": "stdout",
     "output_type": "stream",
     "text": [
      "Best Score with ['linear'] kernel:\n",
      "SVC(C=0.01, break_ties=False, cache_size=200, class_weight=None, coef0=0.0,\n",
      "    decision_function_shape='ovr', degree=1, gamma=1e-09, kernel='linear',\n",
      "    max_iter=-1, probability=False, random_state=None, shrinking=True,\n",
      "    tol=0.001, verbose=False)\n",
      "Support vectirs:  [9 8]\n",
      "Score: 0.9333333333333332\n"
     ]
    }
   ],
   "source": [
    "C_range = [0.001,0.005,0.01,0.05, 0.1,0.5, 1, 5, 10]\n",
    "gamma_range = np.logspace(-9, 3, 10)\n",
    "svc = SVC()\n",
    "params={\n",
    "    'C': C_range,\n",
    "    'gamma': gamma_range,\n",
    "    'kernel': ['linear'],\n",
    "    'degree': [1,2,3,4]\n",
    "}\n",
    "\n",
    "clf = GridSearchCV(svc, params, verbose=0, n_jobs=-1, cv=5)\n",
    "clf.fit(x_train, y_train)\n",
    "print('Best Score with {} kernel:'.format(params[\"kernel\"]))\n",
    "print(clf.best_estimator_)\n",
    "print(\"Support vectirs: \", clf.best_estimator_.n_support_)\n",
    "print(\"Score: {}\".format(clf.best_score_))"
   ]
  },
  {
   "cell_type": "code",
   "execution_count": 19,
   "metadata": {},
   "outputs": [
    {
     "name": "stdout",
     "output_type": "stream",
     "text": [
      "Best Score with poly kernel:\n",
      "SVC(C=0.001, break_ties=False, cache_size=200, class_weight=None, coef0=0.0,\n",
      "    decision_function_shape='ovr', degree=2, gamma=0.004641588833612773,\n",
      "    kernel='poly', max_iter=-1, probability=False, random_state=None,\n",
      "    shrinking=True, tol=0.001, verbose=False)\n",
      "Support vectirs:  [9 9]\n",
      "Score: 0.9333333333333332\n"
     ]
    }
   ],
   "source": [
    "C_range = [0.001,0.005,0.01,0.05, 0.1,0.5, 1, 5, 10]\n",
    "gamma_range = np.logspace(-9, 3, 10)\n",
    "svc = SVC()\n",
    "params={\n",
    "    'C': C_range,\n",
    "    'gamma': gamma_range,\n",
    "    'kernel': ['poly'],\n",
    "    'degree': [1,2,3,4]\n",
    "}\n",
    "\n",
    "clf = GridSearchCV(svc, params, verbose=0, n_jobs=-1, cv=5)\n",
    "clf.fit(x_train, y_train)\n",
    "print('Best Score with {} kernel:'.format(params[\"kernel\"][0]))\n",
    "print(clf.best_estimator_)\n",
    "print(\"Support vectirs: \", clf.best_estimator_.n_support_)\n",
    "print(\"Score: {}\".format(clf.best_score_))"
   ]
  },
  {
   "cell_type": "code",
   "execution_count": 20,
   "metadata": {},
   "outputs": [
    {
     "name": "stdout",
     "output_type": "stream",
     "text": [
      "Best Score with rbf kernel:\n",
      "SVC(C=5, break_ties=False, cache_size=200, class_weight=None, coef0=0.0,\n",
      "    decision_function_shape='ovr', degree=1, gamma=0.00021544346900318823,\n",
      "    kernel='rbf', max_iter=-1, probability=False, random_state=None,\n",
      "    shrinking=True, tol=0.001, verbose=False)\n",
      "Support vectirs:  [12 11]\n",
      "Score: 0.9166666666666667\n"
     ]
    }
   ],
   "source": [
    "C_range = [0.001,0.005,0.01,0.05, 0.1,0.5, 1, 5, 10]\n",
    "gamma_range = np.logspace(-9, 3, 10)\n",
    "svc = SVC()\n",
    "params={\n",
    "    'C': C_range,\n",
    "    'gamma': gamma_range,\n",
    "    'kernel': ['rbf'],\n",
    "    'degree': [1,2,3,4]\n",
    "}\n",
    "\n",
    "clf = GridSearchCV(svc, params, verbose=0, n_jobs=-1, cv=5)\n",
    "clf.fit(x_train, y_train)\n",
    "print('Best Score with {} kernel:'.format(params[\"kernel\"][0]))\n",
    "print(clf.best_estimator_)\n",
    "print(\"Support vectirs: \", clf.best_estimator_.n_support_)\n",
    "print(\"Score: {}\".format(clf.best_score_))"
   ]
  },
  {
   "cell_type": "code",
   "execution_count": 21,
   "metadata": {},
   "outputs": [
    {
     "name": "stdout",
     "output_type": "stream",
     "text": [
      "Best Score with sigmoid kernel:\n",
      "SVC(C=0.001, break_ties=False, cache_size=200, class_weight=None, coef0=0.0,\n",
      "    decision_function_shape='ovr', degree=1, gamma=1e-09, kernel='sigmoid',\n",
      "    max_iter=-1, probability=False, random_state=None, shrinking=True,\n",
      "    tol=0.001, verbose=False)\n",
      "Support vectirs:  [30 30]\n",
      "Score: 0.8166666666666667\n"
     ]
    }
   ],
   "source": [
    "C_range = [0.001,0.005,0.01,0.05, 0.1,0.5, 1, 5, 10]\n",
    "gamma_range = np.logspace(-9, 3, 10)\n",
    "svc = SVC()\n",
    "params={\n",
    "    'C': C_range,\n",
    "    'gamma': gamma_range,\n",
    "    'kernel': ['sigmoid'],\n",
    "    'degree': [1,2,3,4]\n",
    "}\n",
    "\n",
    "clf = GridSearchCV(svc, params, verbose=0, n_jobs=-1, cv=5)\n",
    "clf.fit(x_train, y_train)\n",
    "print('Best Score with {} kernel:'.format(params[\"kernel\"][0]))\n",
    "print(clf.best_estimator_)\n",
    "print(\"Support vectirs: \", clf.best_estimator_.n_support_)\n",
    "print(\"Score: {}\".format(clf.best_score_))"
   ]
  },
  {
   "cell_type": "code",
   "execution_count": null,
   "metadata": {},
   "outputs": [],
   "source": []
  }
 ],
 "metadata": {
  "kernelspec": {
   "display_name": "Python 3",
   "language": "python",
   "name": "python3"
  },
  "language_info": {
   "codemirror_mode": {
    "name": "ipython",
    "version": 3
   },
   "file_extension": ".py",
   "mimetype": "text/x-python",
   "name": "python",
   "nbconvert_exporter": "python",
   "pygments_lexer": "ipython3",
   "version": "3.8.2"
  }
 },
 "nbformat": 4,
 "nbformat_minor": 4
}
